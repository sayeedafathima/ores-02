{
  "nbformat": 4,
  "nbformat_minor": 0,
  "metadata": {
    "colab": {
      "provenance": [],
      "authorship_tag": "ABX9TyMzXIXCUEEqzR6CcLmjRaGM",
      "include_colab_link": true
    },
    "kernelspec": {
      "name": "python3",
      "display_name": "Python 3"
    },
    "language_info": {
      "name": "python"
    }
  },
  "cells": [
    {
      "cell_type": "markdown",
      "metadata": {
        "id": "view-in-github",
        "colab_type": "text"
      },
      "source": [
        "<a href=\"https://colab.research.google.com/github/sayeedafathima/ores-02/blob/main/data_cleaning_2.ipynb\" target=\"_parent\"><img src=\"https://colab.research.google.com/assets/colab-badge.svg\" alt=\"Open In Colab\"/></a>"
      ]
    },
    {
      "cell_type": "code",
      "execution_count": 29,
      "metadata": {
        "id": "rCeXFTZ6EuQQ"
      },
      "outputs": [],
      "source": [
        "import pandas as pd"
      ]
    },
    {
      "cell_type": "code",
      "source": [
        "data = pd.read_csv('U.S. Household Mental Health & Covid-19.csv')"
      ],
      "metadata": {
        "id": "MWzyiBtUE4cq"
      },
      "execution_count": 30,
      "outputs": []
    },
    {
      "cell_type": "code",
      "source": [
        "data.shape"
      ],
      "metadata": {
        "colab": {
          "base_uri": "https://localhost:8080/"
        },
        "id": "kEWUjGpjGM3Z",
        "outputId": "cde80eb9-90ed-437e-e2b7-79b877c15839"
      },
      "execution_count": 31,
      "outputs": [
        {
          "output_type": "execute_result",
          "data": {
            "text/plain": [
              "(3828, 16)"
            ]
          },
          "metadata": {},
          "execution_count": 31
        }
      ]
    },
    {
      "cell_type": "code",
      "source": [
        "data.dtypes"
      ],
      "metadata": {
        "colab": {
          "base_uri": "https://localhost:8080/"
        },
        "id": "whd5LfTPE7cG",
        "outputId": "48d29361-6a9f-4bf8-87da-810b9d6096dc"
      },
      "execution_count": 43,
      "outputs": [
        {
          "output_type": "execute_result",
          "data": {
            "text/plain": [
              "Indicator                  object\n",
              "Group                      object\n",
              "State                      object\n",
              "Subgroup                   object\n",
              "Time Period                 int64\n",
              "Time Period Start Date     object\n",
              "Time Period End Date       object\n",
              "Value                     float64\n",
              "dtype: object"
            ]
          },
          "metadata": {},
          "execution_count": 43
        }
      ]
    },
    {
      "cell_type": "code",
      "source": [],
      "metadata": {
        "id": "Tzdih2UXLhDt"
      },
      "execution_count": null,
      "outputs": []
    },
    {
      "cell_type": "code",
      "source": [
        "data['Time Period Start Date'] = pd.to_datetime(data['Time Period Start Date'])\n",
        "data['Time Period End Date'] = pd.to_datetime(data['Time Period End Date'])"
      ],
      "metadata": {
        "id": "5IsKXt4QFAh3"
      },
      "execution_count": 48,
      "outputs": []
    },
    {
      "cell_type": "code",
      "source": [
        "data.dtypes"
      ],
      "metadata": {
        "colab": {
          "base_uri": "https://localhost:8080/"
        },
        "id": "JIW_N8u2FB6A",
        "outputId": "4ff7123d-df49-47a6-e08c-f3409addfe2b"
      },
      "execution_count": 49,
      "outputs": [
        {
          "output_type": "execute_result",
          "data": {
            "text/plain": [
              "Indicator                         object\n",
              "Group                             object\n",
              "State                             object\n",
              "Subgroup                          object\n",
              "Time Period                        int64\n",
              "Time Period Start Date    datetime64[ns]\n",
              "Time Period End Date      datetime64[ns]\n",
              "Value                            float64\n",
              "dtype: object"
            ]
          },
          "metadata": {},
          "execution_count": 49
        }
      ]
    },
    {
      "cell_type": "code",
      "source": [
        "data1 = data.drop(['index','Phase', 'Time Period Label', 'LowCI', 'HighCI', 'Confidence Interval', 'Quartile Range','Suppression Flag'], axis=1, inplace= True)\n"
      ],
      "metadata": {
        "id": "Da5S-H59FILi"
      },
      "execution_count": 26,
      "outputs": []
    },
    {
      "cell_type": "code",
      "source": [
        "data.to_csv('cleaned_Dataset2.csv', index=False)\n"
      ],
      "metadata": {
        "id": "gkZBiUZyIkh9"
      },
      "execution_count": 51,
      "outputs": []
    },
    {
      "cell_type": "code",
      "source": [],
      "metadata": {
        "id": "QqOreZl_KyLx"
      },
      "execution_count": null,
      "outputs": []
    }
  ]
}